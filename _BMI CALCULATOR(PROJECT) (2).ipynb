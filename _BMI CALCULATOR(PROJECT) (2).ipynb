{
 "cells": [
  {
   "cell_type": "markdown",
   "id": "b3978850-8c9a-4267-886b-929863c8bebf",
   "metadata": {},
   "source": [
    "# BMI CALCULATOR"
   ]
  },
  {
   "cell_type": "code",
   "execution_count": null,
   "id": "9553bf11-3d77-4941-88b5-83c59ca1d105",
   "metadata": {},
   "outputs": [],
   "source": [
    "#BMI = (weight in pounds*703)/(height in inches* height in inches)"
   ]
  },
  {
   "cell_type": "code",
   "execution_count": 23,
   "id": "afc3fe13-6293-47af-8658-1d5986c6fbf1",
   "metadata": {},
   "outputs": [
    {
     "name": "stdin",
     "output_type": "stream",
     "text": [
      " hafsa\n"
     ]
    }
   ],
   "source": [
    "name=input()"
   ]
  },
  {
   "cell_type": "code",
   "execution_count": 25,
   "id": "81200ecf-dd4e-43bd-9ebb-f6586aa642ea",
   "metadata": {},
   "outputs": [
    {
     "name": "stdout",
     "output_type": "stream",
     "text": [
      "hafsa\n"
     ]
    }
   ],
   "source": [
    "print (name)"
   ]
  },
  {
   "cell_type": "code",
   "execution_count": 7,
   "id": "7e26c31b-c8c6-4608-ad9f-dc6cd153ec77",
   "metadata": {},
   "outputs": [
    {
     "name": "stdin",
     "output_type": "stream",
     "text": [
      "enter your weight in pounds 124\n"
     ]
    }
   ],
   "source": [
    "weight=input(\"enter your weight in pounds\")"
   ]
  },
  {
   "cell_type": "code",
   "execution_count": 9,
   "id": "a04f790d-4ee2-41f4-8247-ec40197951c7",
   "metadata": {},
   "outputs": [
    {
     "name": "stdout",
     "output_type": "stream",
     "text": [
      "124\n"
     ]
    }
   ],
   "source": [
    "print (weight)"
   ]
  },
  {
   "cell_type": "code",
   "execution_count": 31,
   "id": "ab7a5796-2a28-4230-8d67-471f4969baa5",
   "metadata": {},
   "outputs": [
    {
     "name": "stdin",
     "output_type": "stream",
     "text": [
      "enter your name: hafsa\n",
      "enter your weight in pounds: 124\n",
      "enter your height in inches: 64\n"
     ]
    },
    {
     "name": "stdout",
     "output_type": "stream",
     "text": [
      "21.2822265625\n",
      "hafsa, you are normal weight.\n"
     ]
    }
   ],
   "source": [
    "name = input(\"enter your name:\")\n",
    "weight=int(input(\"enter your weight in pounds:\"))\n",
    "height=int(input(\"enter your height in inches:\"))\n",
    "BMI = (weight*703)/(height * height )\n",
    "print(BMI)\n",
    "if BMI>0:\n",
    "    if(BMI<18.5):\n",
    "        print(name +\", you are underweight.\")\n",
    "    elif (BMI<=24.9):\n",
    "        print(name +\", you are normal weight.\")\n",
    "    elif (BMI<29.9):\n",
    "        print(name +\", you are overweight.\")\n",
    "    elif (BMI<34.9):\n",
    "        print(name +\", you are obese.\")\n",
    "    elif (BMI<39.9):\n",
    "        print(name +\", you are severely obese.\")\n",
    "    else:\n",
    "        print(name +\", you are morbidly obese.\")\n",
    "else:\n",
    "    print(\"Enter valid input\")"
   ]
  },
  {
   "cell_type": "code",
   "execution_count": null,
   "id": "7a467ecc-ca28-4686-841d-536abea3c682",
   "metadata": {},
   "outputs": [],
   "source": [
    "Under 18.5\tUnderweight\tMinimal\n",
    "18.5 - 24.9\tNormal Weight\tMinimal\n",
    "25 - 29.9\tOverweight\tIncreased\n",
    "30 - 34.9\tObese\tHigh\n",
    "35 - 39.9\tSeverely Obese\tVery High\n",
    "40 and over\tMorbidly Obese\tExtremely High"
   ]
  },
  {
   "cell_type": "code",
   "execution_count": null,
   "id": "97bf2695-1b5a-4ca5-82d9-42d162f4c76c",
   "metadata": {},
   "outputs": [],
   "source": []
  },
  {
   "cell_type": "code",
   "execution_count": 29,
   "id": "331be7e4-e13e-4969-9df6-bc9e7d055113",
   "metadata": {},
   "outputs": [
    {
     "name": "stdout",
     "output_type": "stream",
     "text": [
      "hafsa, you are normal weight.\n"
     ]
    }
   ],
   "source": [
    "if BMI>0:\n",
    "    if(BMI<18.5):\n",
    "        print(name +\", you are underweight.\")\n",
    "    elif (BMI<=24.9):\n",
    "        print(name +\", you are normal weight.\")\n",
    "    elif (BMI<29.9):\n",
    "        print(name +\", you are overweight.\")\n",
    "    elif (BMI<34.9):\n",
    "        print(name +\", you are obese.\")\n",
    "    elif (BMI<39.9):\n",
    "        print(name +\", you are severely obese.\")\n",
    "    else:\n",
    "        print(name +\", you are morbidly obese.\")\n",
    "else:\n",
    "    print(\"Enter valid input\") "
   ]
  },
  {
   "cell_type": "code",
   "execution_count": null,
   "id": "bab6d69d-6980-43e4-8c44-f3a2bf0b24c4",
   "metadata": {},
   "outputs": [],
   "source": []
  },
  {
   "cell_type": "code",
   "execution_count": null,
   "id": "6849b653-4c9b-4512-83f0-4b50af74bbe5",
   "metadata": {},
   "outputs": [],
   "source": []
  },
  {
   "cell_type": "code",
   "execution_count": null,
   "id": "c036c133-9a28-432a-bd96-48ff0efe6996",
   "metadata": {},
   "outputs": [],
   "source": []
  },
  {
   "cell_type": "code",
   "execution_count": null,
   "id": "41d63c7b-576b-4cd0-aa9d-12862c267954",
   "metadata": {},
   "outputs": [],
   "source": []
  },
  {
   "cell_type": "code",
   "execution_count": null,
   "id": "069968b6-5e8e-4b9a-a4d4-440df6a414d5",
   "metadata": {},
   "outputs": [],
   "source": []
  }
 ],
 "metadata": {
  "kernelspec": {
   "display_name": "Python 3 (ipykernel)",
   "language": "python",
   "name": "python3"
  },
  "language_info": {
   "codemirror_mode": {
    "name": "ipython",
    "version": 3
   },
   "file_extension": ".py",
   "mimetype": "text/x-python",
   "name": "python",
   "nbconvert_exporter": "python",
   "pygments_lexer": "ipython3",
   "version": "3.12.4"
  }
 },
 "nbformat": 4,
 "nbformat_minor": 5
}
